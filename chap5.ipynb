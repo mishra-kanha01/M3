{
 "cells": [
  {
   "cell_type": "code",
   "execution_count": 1,
   "metadata": {},
   "outputs": [
    {
     "name": "stdout",
     "output_type": "stream",
     "text": [
      "In the given DE, p(x) and q(x) are\n"
     ]
    },
    {
     "data": {
      "image/png": "[encoded data removed]",
      "text/latex": [
       "$\\displaystyle \\frac{x}{x^{2} + 1}$"
      ],
      "text/plain": [
       "  x   \n",
       "──────\n",
       " 2    \n",
       "x  + 1"
      ]
     },
     "metadata": {},
     "output_type": "display_data"
    },
    {
     "data": {
      "image/png": "[encoded data removed]",
      "text/latex": [
       "$\\displaystyle - \\frac{1}{x^{2} + 1}$"
      ],
      "text/plain": [
       " -1   \n",
       "──────\n",
       " 2    \n",
       "x  + 1"
      ]
     },
     "metadata": {},
     "output_type": "display_data"
    },
    {
     "name": "stdout",
     "output_type": "stream",
     "text": [
      "Power series solution is\n"
     ]
    },
    {
     "data": {
      "image/png": "[encoded data removed]",
      "text/latex": [
       "$\\displaystyle y{\\left(x \\right)} = C_{2} \\left(- \\frac{x^{4}}{8} + \\frac{x^{2}}{2} + 1\\right) + C_{1} x + O\\left(x^{6}\\right)$"
      ],
      "text/plain": [
       "          ⎛   4    2    ⎞               \n",
       "          ⎜  x    x     ⎟           ⎛ 6⎞\n",
       "y(x) = C₂⋅⎜- ── + ── + 1⎟ + C₁⋅x + O⎝x ⎠\n",
       "          ⎝  8    2     ⎠               "
      ]
     },
     "metadata": {},
     "output_type": "display_data"
    }
   ],
   "source": [
    "# POWER SERIES SOLUTION of (1+x^2)y''+xy'-y=0 about the ORDINARY POINT x=0\n",
    "import sympy as sy\n",
    "sy.init_printing() # for LaTeX formatted output\n",
    "from IPython.display import display\n",
    "x,r = sy.symbols('x r'); y = sy.symbols('y', cls=sy.Function)\n",
    "#Enter p(x) and q(x)\n",
    "px=x/(1+x**2);qx=-1/(x**2+1)\n",
    "print('In the given DE, p(x) and q(x) are')\n",
    "display(px,qx)\n",
    "DE = sy.Eq(y(x).diff(x, 2) + px*(y(x).diff(x)) + qx*y(x), 0)\n",
    "sol = sy.dsolve(DE,y(x),hint='2nd_power_series_ordinary')\n",
    "print('Power series solution is')\n",
    "display(sol)"
   ]
  },
  {
   "cell_type": "code",
   "execution_count": 2,
   "metadata": {},
   "outputs": [
    {
     "name": "stdout",
     "output_type": "stream",
     "text": [
      "In the given DE, p(x) and q(x) are\n"
     ]
    },
    {
     "data": {
      "image/png": "[encoded data removed]",
      "text/latex": [
       "$\\displaystyle \\frac{1}{2 x}$"
      ],
      "text/plain": [
       " 1 \n",
       "───\n",
       "2⋅x"
      ]
     },
     "metadata": {},
     "output_type": "display_data"
    },
    {
     "data": {
      "image/png": "[encoded data removed]",
      "text/latex": [
       "$\\displaystyle \\frac{- x^{2} - 1}{2 x^{2}}$"
      ],
      "text/plain": [
       "   2    \n",
       "- x  - 1\n",
       "────────\n",
       "     2  \n",
       "  2⋅x   "
      ]
     },
     "metadata": {},
     "output_type": "display_data"
    },
    {
     "name": "stdout",
     "output_type": "stream",
     "text": [
      "Indicial equation is\n"
     ]
    },
    {
     "data": {
      "image/png": "[encoded data removed]",
      "text/latex": [
       "$\\displaystyle r^{2} - \\frac{r}{2} - \\frac{1}{2} = 0$"
      ],
      "text/plain": [
       " 2   r   1    \n",
       "r  - ─ - ─ = 0\n",
       "     2   2    "
      ]
     },
     "metadata": {},
     "output_type": "display_data"
    },
    {
     "name": "stdout",
     "output_type": "stream",
     "text": [
      "with roots [-1/2, 1]\n",
      "Power series solution is\n"
     ]
    },
    {
     "data": {
      "image/png": "[encoded data removed]",
      "text/latex": [
       "$\\displaystyle y{\\left(x \\right)} = C_{2} x \\left(\\frac{x^{4}}{616} + \\frac{x^{2}}{14} + 1\\right) + \\frac{C_{1} \\left(\\frac{x^{4}}{40} + \\frac{x^{2}}{2} + 1\\right)}{\\sqrt{x}} + O\\left(x^{6}\\right)$"
      ],
      "text/plain": [
       "                                ⎛ 4    2    ⎞        \n",
       "                                ⎜x    x     ⎟        \n",
       "            ⎛  4    2    ⎞   C₁⋅⎜── + ── + 1⎟        \n",
       "            ⎜ x    x     ⎟      ⎝40   2     ⎠    ⎛ 6⎞\n",
       "y(x) = C₂⋅x⋅⎜─── + ── + 1⎟ + ──────────────── + O⎝x ⎠\n",
       "            ⎝616   14    ⎠          √x               "
      ]
     },
     "metadata": {},
     "output_type": "display_data"
    }
   ],
   "source": [
    "# POWER SERIES SOLUTION of 2x^2y''+xy'-(x^2+1)y=0 about the REGULAR SINGULAR POINT x=0\n",
    "import sympy as sy\n",
    "sy.init_printing() # for LaTeX formatted output\n",
    "from IPython.display import display\n",
    "x,r = sy.symbols('x r'); y = sy.symbols('y', cls=sy.Function)\n",
    "#Enter p(x) and q(x)\n",
    "px=x/(2*x**2);qx=-(x**2+1)/(2*x**2)\n",
    "print('In the given DE, p(x) and q(x) are')\n",
    "display(px,qx)\n",
    "p0=sy.limit(x*px,x,0);q0=sy.limit(x**2*qx,x,0)\n",
    "IE=sy.Eq(r**2+(p0-1)*r+q0,0)\n",
    "print('Indicial equation is')\n",
    "display(IE)\n",
    "roots=sy.solve(IE,r)\n",
    "print('with roots',roots)\n",
    "#display(p0,q0)\n",
    "DE = sy.Eq(y(x).diff(x, 2) + px*(y(x).diff(x)) + qx*y(x), 0)\n",
    "sol = sy.dsolve(DE,y(x),hint='2nd_power_series_regular')\n",
    "print('Power series solution is')\n",
    "display(sol)"
   ]
  },
  {
   "cell_type": "code",
   "execution_count": 3,
   "metadata": {},
   "outputs": [
    {
     "name": "stdout",
     "output_type": "stream",
     "text": [
      "Enter the coeff. of y''x**2-x-6\n",
      "Enter the coeff. of y'5+3*x\n",
      "Enter the coeff. of y1\n"
     ]
    },
    {
     "data": {
      "image/png": "[encoded data removed]",
      "text/latex": [
       "$\\displaystyle \\left(x - 3\\right) \\left(x + 2\\right) \\frac{d^{2}}{d x^{2}} y{\\left(x \\right)} + \\left(3 x + 5\\right) \\frac{d}{d x} y{\\left(x \\right)} + y{\\left(x \\right)} = 0$"
      ],
      "text/plain": [
       "                  2                                      \n",
       "                 d                    d                  \n",
       "(x - 3)⋅(x + 2)⋅───(y(x)) + (3⋅x + 5)⋅──(y(x)) + y(x) = 0\n",
       "                  2                   dx                 \n",
       "                dx                                       "
      ]
     },
     "metadata": {},
     "output_type": "display_data"
    },
    {
     "name": "stdout",
     "output_type": "stream",
     "text": [
      "Let us compare it with (x-A)(x-B)y’’+(Cx+D)y’+Ey=0.\n",
      "Here A = 3\n",
      "and B = -2\n",
      "So using the transformation x=(B-A)t+A, we get\n"
     ]
    },
    {
     "data": {
      "image/png": "[encoded data removed]",
      "text/latex": [
       "$\\displaystyle t \\left(t - 1\\right) \\frac{d^{2}}{d t^{2}} y{\\left(t \\right)} + \\left(3 t - \\frac{14}{5}\\right) \\frac{d}{d t} y{\\left(t \\right)} + y{\\left(t \\right)} = 0$"
      ],
      "text/plain": [
       "            2                                         \n",
       "           d                       d                  \n",
       "t⋅(t - 1)⋅───(y(t)) + (3⋅t - 14/5)⋅──(y(t)) + y(t) = 0\n",
       "            2                      dt                 \n",
       "          dt                                          "
      ]
     },
     "metadata": {},
     "output_type": "display_data"
    },
    {
     "name": "stdout",
     "output_type": "stream",
     "text": [
      "Comparing with t(t-1)y’’+[(a+b+1)t-c]y’+aby=0, we have\n",
      "a+b+1 = 3\n",
      "c = 14/5\n",
      "ab = 1\n",
      "So a, b are\n",
      "1 , 1\n",
      "Thus, general solution of the given DE is\n"
     ]
    },
    {
     "data": {
      "image/png": "[encoded data removed]",
      "text/latex": [
       "$\\displaystyle \\left( y=c_{1\\;F(a}, \\  b, \\  c, \\  t)+c_2\\;t^{1-c}F(a-c+1, \\  b-c+1, \\  2-c, \\  t)\\right)$"
      ],
      "text/plain": [
       "(y=c_1\\;F(a, b, c, t)+c_2\\;t__{1-c}F(a-c+1, b-c+1, 2-c, t))"
      ]
     },
     "metadata": {},
     "output_type": "display_data"
    },
    {
     "name": "stdout",
     "output_type": "stream",
     "text": [
      "where\n",
      "a = 1 b = 1 c = 14/5 t = 3/5 - x/5\n"
     ]
    }
   ],
   "source": [
    "# PROGRAM FOR SOLVING HYPERGEOMETRIC DE: (x^2 − x − 6)y'' + (5 + 3x)y' + y = 0 near x = 3\n",
    "\n",
    "# When it prompts, enter the following to get the solution of the above DE. \n",
    "\n",
    "#Enter the coeff. of y'': x**2-x-6\n",
    "#Enter the coeff. of y': 5+3*x\n",
    "#Enter the coeff. of y: 1\n",
    "\n",
    "# Here A = 3\n",
    "# and B = -2\n",
    "\n",
    "# a+b+1 = 3\n",
    "# c = 14/5\n",
    "# ab = 1\n",
    "\n",
    "import sympy as sy\n",
    "sy.init_printing() # for LaTeX formatted output\n",
    "from IPython.display import display\n",
    "x,t = sy.symbols('x t'); y = sy.symbols('y', cls=sy.Function)\n",
    "cy2=sy.sympify(input(\"Enter the coeff. of y''\"))\n",
    "cy1=sy.sympify(input(\"Enter the coeff. of y'\"))\n",
    "cy0=sy.sympify(input(\"Enter the coeff. of y\"))\n",
    "s=sy.Eq(sy.factor(cy2)*y(x).diff(x,x)+cy1*y(x).diff(x)+cy0*y(x),0)\n",
    "display(s)\n",
    "print(\"Let us compare it with (x-A)(x-B)y’’+(Cx+D)y’+Ey=0.\")\n",
    "A=sy.sympify(input(\"Here A = \"))\n",
    "B=sy.sympify(input(\"and B = \"))\n",
    "print('So using the transformation x=(B-A)t+A, we get')\n",
    "t1=(B-A)*t+A\n",
    "k2=sy.lambdify(x,cy2);k1=sy.lambdify(x,cy1);k0=sy.lambdify(x,cy0)\n",
    "s=sy.Eq(sy.factor(k2(t1))*y(t).diff(t,t)*(sy.diff(t1,t))**-2+\n",
    "sy.simplify((sy.diff(t1,t)**-1)*k1(t1))*y(t).diff(t)+k0(t1)*y(t),0)\n",
    "display(s)\n",
    "print(\"Comparing with t(t-1)y’’+[(a+b+1)t-c]y’+aby=0, we have\")\n",
    "S=sy.sympify(input(\"a+b+1 = \"))\n",
    "c=sy.sympify(input(\"c = \"))\n",
    "P=sy.sympify(input(\"ab = \"))\n",
    "print('So a, b are')\n",
    "r1=((S-1)+((S-1)**2-4*P)**(1/2))/2\n",
    "r2=((S-1)-((S-1)**2-4*P)**(1/2))/2\n",
    "print(r1,',',r2)\n",
    "print('Thus, general solution of the given DE is')\n",
    "sol=sy.symbols('y=c_1\\;F(a,b,c,t)+c_2\\;t^{1-c}F(a-c+1,b-c+1,2-c,t)')\n",
    "display(sol)\n",
    "print('where')\n",
    "print('a =',r1,'b =',r2,'c =',c,'t =',(x-A)/(B-A))"
   ]
  },
  {
   "cell_type": "code",
   "execution_count": null,
   "metadata": {},
   "outputs": [],
   "source": []
  }
 ],
 "metadata": {
  "kernelspec": {
   "display_name": "Python 3",
   "language": "python",
   "name": "python3"
  },
  "language_info": {
   "codemirror_mode": {
    "name": "ipython",
    "version": 3
   },
   "file_extension": ".py",
   "mimetype": "text/x-python",
   "name": "python",
   "nbconvert_exporter": "python",
   "pygments_lexer": "ipython3",
   "version": "3.8.10"
  }
 },
 "nbformat": 4,
 "nbformat_minor": 4
}
