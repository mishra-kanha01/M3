{
 "cells": [
  {
   "cell_type": "code",
   "execution_count": 1,
   "metadata": {},
   "outputs": [
    {
     "name": "stdout",
     "output_type": "stream",
     "text": [
      "Here h(x) is\n"
     ]
    },
    {
     "data": {
      "image/png": "[encoded data removed]",
      "text/latex": [
       "$\\displaystyle 1 - \\frac{0.75}{x^{2}}$"
      ],
      "text/plain": [
       "    0.75\n",
       "1 - ────\n",
       "      2 \n",
       "     x  "
      ]
     },
     "metadata": {},
     "output_type": "display_data"
    },
    {
     "name": "stdout",
     "output_type": "stream",
     "text": [
      "So Normal Form of given DE is\n"
     ]
    },
    {
     "data": {
      "image/png": "[encoded data removed]",
      "text/latex": [
       "$\\displaystyle \\left(1 - \\frac{0.75}{x^{2}}\\right) u{\\left(x \\right)} + \\frac{d^{2}}{d x^{2}} u{\\left(x \\right)} = 0$"
      ],
      "text/plain": [
       "                    2          \n",
       "⎛    0.75⎞         d           \n",
       "⎜1 - ────⎟⋅u(x) + ───(u(x)) = 0\n",
       "⎜      2 ⎟          2          \n",
       "⎝     x  ⎠        dx           "
      ]
     },
     "metadata": {},
     "output_type": "display_data"
    },
    {
     "name": "stdout",
     "output_type": "stream",
     "text": [
      "The integration of h(x) over the interval (1,oo) is infinite.\n"
     ]
    }
   ],
   "source": [
    "# PROGRAM FOR NORMAL FORM AND QUALITATIVE BEHAVIOR of y''+(1/x)y'+(1-1/x^2)y = 0.\n",
    "import sympy as sy\n",
    "import numpy as np\n",
    "from sympy import oo\n",
    "sy.init_printing()\n",
    "from IPython.display import display\n",
    "x,y = sy.symbols('x y');u = sy.symbols('u', cls=sy.Function)\n",
    "# Given DE is y’’+p(x)y’+q(x)y=0 with\n",
    "px=1/x\n",
    "qx=1-1/x**2\n",
    "print('Here h(x) is')\n",
    "hx= (qx-1/4*px**2-1/2*sy.diff(px,x))\n",
    "display(hx)\n",
    "print('So Normal Form of given DE is')\n",
    "I=sy.Eq(u(x).diff(x,x)+hx*u(x),0)\n",
    "display(I)\n",
    "if(sy.integrate(hx,(x,1,oo))!= oo):\n",
    "    print('The integration of h(x) over the interval (1,oo) is finite.')\n",
    "else:\n",
    "    print('The integration of h(x) over the interval (1,oo) is infinite.')"
   ]
  },
  {
   "cell_type": "code",
   "execution_count": null,
   "metadata": {},
   "outputs": [],
   "source": []
  },
  {
   "cell_type": "code",
   "execution_count": null,
   "metadata": {},
   "outputs": [],
   "source": []
  }
 ],
 "metadata": {
  "kernelspec": {
   "display_name": "Python 3",
   "language": "python",
   "name": "python3"
  },
  "language_info": {
   "codemirror_mode": {
    "name": "ipython",
    "version": 3
   },
   "file_extension": ".py",
   "mimetype": "text/x-python",
   "name": "python",
   "nbconvert_exporter": "python",
   "pygments_lexer": "ipython3",
   "version": "3.8.10"
  }
 },
 "nbformat": 4,
 "nbformat_minor": 4
}
