{
 "cells": [
  {
   "cell_type": "code",
   "execution_count": 1,
   "metadata": {},
   "outputs": [],
   "source": [
    "# The following are the example python programs to solve first order DE.\n",
    "# Copy and paste any program in a Jupyter Notebook cell of python in your system, and run to get the output. \n",
    "# Alternatively, you can do it on the online Jupyter Notebook available at https://jupyter.org/try\n",
    "# Try Classic Notebook at this link, insert a new cell there, and copy-paste the program given below.\n",
    "# Sympy is a python package for symbolic mathematical calculations. \n",
    "# It would be helpful to read some basic usage of Sympy from the links.\n",
    "# https://maths-with-python.readthedocs.io/en/latest/07-sympy.html\n",
    "# https://www.sympy.org/en/index.html"
   ]
  },
  {
   "cell_type": "code",
   "execution_count": 2,
   "metadata": {},
   "outputs": [
    {
     "data": {
      "image/png": "[encoded data removed]",
      "text/latex": [
       "$\\displaystyle - y{\\left(x \\right)} \\cos{\\left(x \\right)} + \\frac{d}{d x} y{\\left(x \\right)} = 0$"
      ],
      "text/plain": [
       "               d           \n",
       "-y(x)⋅cos(x) + ──(y(x)) = 0\n",
       "               dx          "
      ]
     },
     "metadata": {},
     "output_type": "display_data"
    },
    {
     "data": {
      "image/png": "[encoded data removed]",
      "text/latex": [
       "$\\displaystyle y{\\left(x \\right)} = C_{1} e^{\\sin{\\left(x \\right)}}$"
      ],
      "text/plain": [
       "           sin(x)\n",
       "y(x) = C₁⋅ℯ      "
      ]
     },
     "metadata": {},
     "output_type": "display_data"
    }
   ],
   "source": [
    "# Python program to solve the DE: y’-y cos(x)=0 \n",
    "import sympy as sy # Importing Sympy for symbolic calculations\n",
    "sy.init_printing() # For LaTeX formatted output\n",
    "from IPython.display import display # For displaying the output\n",
    "x = sy.symbols('x'); y = sy.symbols('y', cls=sy.Function) # Declaring the symbols\n",
    "DE = sy.Eq(y(x).diff(x)-y(x)*sy.cos(x),0) # Entering the DE: y’-y cos(x)=0\n",
    "display(DE) # Display the entered DE\n",
    "sol = sy.dsolve(DE,y(x)) # Solving the DE using dsolve from Sympy\n",
    "display(sol) # Display the solution"
   ]
  },
  {
   "cell_type": "code",
   "execution_count": 3,
   "metadata": {},
   "outputs": [
    {
     "data": {
      "image/png": "[encoded data removed]",
      "text/latex": [
       "$\\displaystyle \\log{\\left(y \\right)} - \\sin{\\left(x \\right)} = C_{1}$"
      ],
      "text/plain": [
       "log(y) - sin(x) = C₁"
      ]
     },
     "metadata": {},
     "output_type": "display_data"
    }
   ],
   "source": [
    "# You can also write your own program to solve the DE: y’-y cos(x)=0 without using dsolve. \n",
    "import sympy as sy # Importing Sympy for symbolic calculations\n",
    "sy.init_printing() # For LaTeX formatted output\n",
    "from IPython.display import display # For displaying the output\n",
    "x,y,C_1 = sy.symbols('x y C_1') # Declaring the symbols\n",
    "sol = sy.Eq(sy.integrate(1/y,y)+sy.integrate(-sy.cos(x),x),C_1)\n",
    "display(sol)"
   ]
  },
  {
   "cell_type": "code",
   "execution_count": 4,
   "metadata": {},
   "outputs": [
    {
     "name": "stdout",
     "output_type": "stream",
     "text": [
      "Given DE is not exact but its IF2 is\n"
     ]
    },
    {
     "data": {
      "image/png": "[encoded data removed]",
      "text/latex": [
       "$\\displaystyle \\frac{1}{y^{2}}$"
      ],
      "text/plain": [
       "1 \n",
       "──\n",
       " 2\n",
       "y "
      ]
     },
     "metadata": {},
     "output_type": "display_data"
    },
    {
     "name": "stdout",
     "output_type": "stream",
     "text": [
      "And solution is\n"
     ]
    },
    {
     "data": {
      "image/png": "[encoded data removed]",
      "text/latex": [
       "$\\displaystyle - \\frac{x^{2}}{y} - y = C$"
      ],
      "text/plain": [
       "   2        \n",
       "  x         \n",
       "- ── - y = C\n",
       "  y         "
      ]
     },
     "metadata": {},
     "output_type": "display_data"
    }
   ],
   "source": [
    "# Solve the exact DE: Mdx+Ndy=0. Below for example, we solve 2xydx+(x^2-y^2)dy=0\n",
    "import sympy as sy\n",
    "sy.init_printing() # for LaTeX formatted output\n",
    "from IPython.display import display\n",
    "x = sy.symbols('x'); y = sy.symbols('y');C = sy.symbols('C')\n",
    "M=-2*x*y # Enter M here\n",
    "N=x**2-y**2 # Enter N here\n",
    "IF1=sy.exp(sy.integrate(sy.simplify((sy.diff(M,y)-sy.diff(N,x))/N),x))\n",
    "IF2=sy.exp(sy.integrate(sy.simplify((-sy.diff(M,y)+sy.diff(N,x))/M),y))\n",
    "IF3=sy.simplify(1/(M*x+N*y))\n",
    "if sy.simplify(sy.diff(M,y)-sy.diff(N,x))==0:\n",
    "    print('Given DE is exact and its solution is')\n",
    "    I=sy.Eq(sy.integrate(M,x)+sy.integrate(N-sy.diff(sy.integrate(M,x),y),y),C)\n",
    "    display(I)\n",
    "elif(sy.simplify(sy.diff(M*IF1,y)-sy.diff(N*IF1,x))==0):\n",
    "    print('Given DE is not exact but its IF1 is')\n",
    "    display(IF1)\n",
    "    print('And solution is')\n",
    "    I=sy.Eq(sy.integrate(M*IF1,x)+sy.integrate(N*IF1-sy.diff(sy.integrate(M*IF1,x),y),y),C)\n",
    "    display(I)\n",
    "elif(sy.simplify(sy.diff(M*IF2,y)-sy.diff(N*IF2,x))==0):\n",
    "    print('Given DE is not exact but its IF2 is')\n",
    "    display(IF2)\n",
    "    print('And solution is')\n",
    "    I=sy.Eq(sy.integrate(M*IF2,x)+sy.integrate(N*IF2-sy.diff(sy.integrate(M*IF2,x),y),y),C)\n",
    "    display(I)\n",
    "elif(sy.simplify(sy.diff(M*IF3,y)-sy.diff(N*IF3,x))==0):\n",
    "    print('Given DE is not exact but its IF3 is')\n",
    "    display(IF3)\n",
    "    print('And solution is')\n",
    "    I=sy.Eq(sy.integrate(M*IF3,x)+\n",
    "    sy.integrate(N*IF3-sy.diff(sy.integrate(M*IF3,x),y),y),C)\n",
    "    display(I)\n",
    "else:\n",
    "    print('Given DE is not exact, and we do not have IF')"
   ]
  },
  {
   "cell_type": "code",
   "execution_count": 5,
   "metadata": {},
   "outputs": [
    {
     "data": {
      "image/png": "[encoded data removed]",
      "text/latex": [
       "$\\displaystyle - y{\\left(x \\right)} + \\frac{d}{d x} y{\\left(x \\right)} = 0$"
      ],
      "text/plain": [
       "        d           \n",
       "-y(x) + ──(y(x)) = 0\n",
       "        dx          "
      ]
     },
     "metadata": {},
     "output_type": "display_data"
    },
    {
     "data": {
      "image/png": "[encoded data removed]",
      "text/latex": [
       "$\\displaystyle y{\\left(x \\right)} = C_{1} e^{x}$"
      ],
      "text/plain": [
       "           x\n",
       "y(x) = C₁⋅ℯ "
      ]
     },
     "metadata": {},
     "output_type": "display_data"
    },
    {
     "data": {
      "image/png": "[encoded data removed]",
      "text/latex": [
       "$\\displaystyle \\left\\{ C_{1} : 1\\right\\}$"
      ],
      "text/plain": [
       "{C₁: 1}"
      ]
     },
     "metadata": {},
     "output_type": "display_data"
    },
    {
     "data": {
      "image/png": "[encoded data removed]",
      "text/latex": [
       "$\\displaystyle y{\\left(x \\right)} = e^{x}$"
      ],
      "text/plain": [
       "        x\n",
       "y(x) = ℯ "
      ]
     },
     "metadata": {},
     "output_type": "display_data"
    }
   ],
   "source": [
    "# Solve the DE y'-y=0 with the condition y(0)=1\n",
    "import sympy as sy\n",
    "sy.init_printing() # for LaTeX formatted output\n",
    "from IPython.display import display\n",
    "x = sy.symbols('x'); y = sy.symbols('y', cls=sy.Function)\n",
    "#Enter the DE: y'-y=0\n",
    "a1=1;a0=-1;r=0\n",
    "DE = sy.Eq(a1*y(x).diff(x) + a0*y(x), r)\n",
    "# Print the DE\n",
    "display(DE)\n",
    "# Solve the DE\n",
    "sol = sy.dsolve(DE,y(x))\n",
    "# Print the solution\n",
    "display(sol)\n",
    "# Solving C1 from the intial conditions y(0)=1\n",
    "constants = sy.solve([sol.rhs.subs(x,0) - 1])\n",
    "display(constants)\n",
    "# Final solution\n",
    "C1 = sy.symbols('C1')\n",
    "fsol = sol.subs(constants)\n",
    "display(fsol)"
   ]
  },
  {
   "cell_type": "code",
   "execution_count": 6,
   "metadata": {},
   "outputs": [
    {
     "name": "stdout",
     "output_type": "stream",
     "text": [
      "                 x = [0.  0.5 1.  1.5 2. ]\n",
      "Numerical Solution = [1.         1.64872127 2.71828191 4.48168924 7.3890564 ]\n",
      "    Exact Solution = [1.         1.64872127 2.71828183 4.48168907 7.3890561 ]\n"
     ]
    },
    {
     "data": {
      "image/png": "[encoded data removed]",
      "text/plain": [
       "<Figure size 432x288 with 1 Axes>"
      ]
     },
     "metadata": {
      "needs_background": "light"
     },
     "output_type": "display_data"
    }
   ],
   "source": [
    "# Numerical solution of the DE: y’=a*y+b, y(x0)=y0. For example, here we solve y'=y, y(0)=1.\n",
    "%matplotlib inline\n",
    "import numpy as np\n",
    "from scipy.integrate import odeint\n",
    "import matplotlib.pyplot as plt\n",
    "# Consider the DE: y'=y\n",
    "def dydx(y, x):\n",
    "    return y\n",
    "x = np.linspace(0, 2, 5) # It stores five x-values in the interval [0,2], as printed below. \n",
    "w = odeint(dydx, [1], x) # Here [1] stands for the initial condition y(0)=1\n",
    "y = w[:,0] # It stores the numerical solution of the DE at the chosen 5 x-values.\n",
    "print('                 x =',x) # It prints the chosen 5 x-values\n",
    "print('Numerical Solution =',y) # It prints the numerical solution of the DE at the chosen 5 x-values.\n",
    "def f(x):   # Here f defines the exact solution y=f(x)=e^x of y'=y, y(0)=1.\n",
    "    return np.exp(x)\n",
    "print('    Exact Solution =',f(x)) # It prints the exact solution of the DE at the chosen 5 x-values.\n",
    "# We see that the numerical and exact soltions match with high accuracy at the chosen 5 x-values.\n",
    "# Let us plot the two solution curves by using the five points.\n",
    "plt.plot(x,y,'b--',label='Numerical') # Plotting the numerical solution \n",
    "plt.plot(x,f(x),'g',label='Exact') # Plotting the exact solution y=e^x\n",
    "plt.legend(loc=\"best\")\n",
    "plt.xlabel('$x$')\n",
    "plt.ylabel('$y(x)$')\n",
    "plt.show()\n",
    "# Notice that the two solution curves (numerical and exact) overlap each other, as expected."
   ]
  },
  {
   "cell_type": "code",
   "execution_count": null,
   "metadata": {},
   "outputs": [],
   "source": []
  }
 ],
 "metadata": {
  "kernelspec": {
   "display_name": "Python 3",
   "language": "python",
   "name": "python3"
  },
  "language_info": {
   "codemirror_mode": {
    "name": "ipython",
    "version": 3
   },
   "file_extension": ".py",
   "mimetype": "text/x-python",
   "name": "python",
   "nbconvert_exporter": "python",
   "pygments_lexer": "ipython3",
   "version": "3.8.10"
  }
 },
 "nbformat": 4,
 "nbformat_minor": 4
}
