{
 "cells": [
  {
   "cell_type": "code",
   "execution_count": 1,
   "metadata": {},
   "outputs": [],
   "source": [
    "# The following are the example python programs to solve first order DE.\n",
    "# Copy and paste any program in a Jupyter Notebook cell of python in your system, and run to get the output. \n",
    "# Alternatively, you can do it on the online Jupyter Notebook available at https://jupyter.org/try\n",
    "# Try Classic Notebook at this link, insert a new cell there, and copy-paste the program given below.\n",
    "# Sympy is a python package for symbolic mathematical calculations. \n",
    "# It would be helpful to read some basic usage of Sympy from the links.\n",
    "# https://maths-with-python.readthedocs.io/en/latest/07-sympy.html\n",
    "# https://www.sympy.org/en/index.html"
   ]
  },
  {
   "cell_type": "code",
   "execution_count": 2,
   "metadata": {},
   "outputs": [
    {
     "data": {
      "text/latex": [
       "Ex. Solve $y'=y\\cos x$."
      ],
      "text/plain": [
       "<IPython.core.display.Latex object>"
      ]
     },
     "metadata": {},
     "output_type": "display_data"
    },
    {
     "data": {
      "text/latex": [
       "Sol. The solution is"
      ],
      "text/plain": [
       "<IPython.core.display.Latex object>"
      ]
     },
     "metadata": {},
     "output_type": "display_data"
    },
    {
     "data": {
      "image/png": "[encoded data removed]",
      "text/latex": [
       "$\\displaystyle y{\\left(x \\right)} = C_{1} e^{\\sin{\\left(x \\right)}}$"
      ],
      "text/plain": [
       "           sin(x)\n",
       "y(x) = C₁⋅ℯ      "
      ]
     },
     "metadata": {},
     "output_type": "display_data"
    }
   ],
   "source": [
    "# Variable separable DE\n",
    "import sympy as sy # Importing Sympy for symbolic calculations\n",
    "sy.init_printing() # For LaTeX formatted output\n",
    "from IPython.display import display, Latex # For displaying the output\n",
    "display(Latex(\"Ex. Solve $y'=y\\cos x$.\"))\n",
    "display(Latex('Sol. The solution is'))\n",
    "x = sy.symbols('x'); y = sy.symbols('y', cls=sy.Function) # Declaring the symbols\n",
    "DE = sy.Eq(y(x).diff(x)-y(x)*sy.cos(x),0) # Entering the DE: y’-y cos(x)=0\n",
    "sol = sy.dsolve(DE,y(x)) # Solving the DE using dsolve from Sympy\n",
    "display(sol) # Display the solution"
   ]
  },
  {
   "cell_type": "code",
   "execution_count": 3,
   "metadata": {},
   "outputs": [
    {
     "data": {
      "text/latex": [
       "Ex. Solve $y'=y\\cos x$."
      ],
      "text/plain": [
       "<IPython.core.display.Latex object>"
      ]
     },
     "metadata": {},
     "output_type": "display_data"
    },
    {
     "data": {
      "text/latex": [
       "Sol. The solution is"
      ],
      "text/plain": [
       "<IPython.core.display.Latex object>"
      ]
     },
     "metadata": {},
     "output_type": "display_data"
    },
    {
     "data": {
      "image/png": "[encoded data removed]",
      "text/latex": [
       "$\\displaystyle \\log{\\left(y \\right)} - \\sin{\\left(x \\right)} = C_{1}$"
      ],
      "text/plain": [
       "log(y) - sin(x) = C₁"
      ]
     },
     "metadata": {},
     "output_type": "display_data"
    }
   ],
   "source": [
    "# Write your own program to solve the above DE without using dsolve. \n",
    "display(Latex(\"Ex. Solve $y'=y\\cos x$.\"))\n",
    "display(Latex('Sol. The solution is'))\n",
    "x,y,C_1 = sy.symbols('x y C_1') # Declaring the symbols\n",
    "sol = sy.Eq(sy.integrate(1/y,y)+sy.integrate(-sy.cos(x),x),C_1)\n",
    "#sol1=sy.solve(sol,y)\n",
    "display(sol)"
   ]
  },
  {
   "cell_type": "code",
   "execution_count": 4,
   "metadata": {},
   "outputs": [
    {
     "data": {
      "text/latex": [
       "Ex. Solve $y'=\\sin (x-y)$."
      ],
      "text/plain": [
       "<IPython.core.display.Latex object>"
      ]
     },
     "metadata": {},
     "output_type": "display_data"
    },
    {
     "data": {
      "text/latex": [
       "Sol. Using $x-y=t$, the solution is"
      ],
      "text/plain": [
       "<IPython.core.display.Latex object>"
      ]
     },
     "metadata": {},
     "output_type": "display_data"
    },
    {
     "data": {
      "image/png": "[encoded data removed]",
      "text/latex": [
       "$\\displaystyle - \\frac{2}{\\tan{\\left(\\frac{x}{2} - \\frac{y}{2} \\right)} - 1} = C_{1} + x$"
      ],
      "text/plain": [
       "     -2                \n",
       "────────────── = C₁ + x\n",
       "   ⎛x   y⎞             \n",
       "tan⎜─ - ─⎟ - 1         \n",
       "   ⎝2   2⎠             "
      ]
     },
     "metadata": {},
     "output_type": "display_data"
    }
   ],
   "source": [
    "# DE reducible to variable separable\n",
    "display(Latex(\"Ex. Solve $y'=\\sin (x-y)$.\"))\n",
    "display(Latex('Sol. Using $x-y=t$, the solution is'))\n",
    "x,y,t,C_1 = sy.symbols('x,y,t,C_1')\n",
    "f=sy.sin(x-y);a=1;b=-1;\n",
    "sol = sy.Eq(sy.integrate(1/(b*f.subs(x-y,t)+a),t),x+C_1)\n",
    "display(sol.subs(t,x-y)) "
   ]
  },
  {
   "cell_type": "code",
   "execution_count": 5,
   "metadata": {},
   "outputs": [
    {
     "data": {
      "text/latex": [
       "Ex. Solve $y'=\\frac{x+y}{x-y}$."
      ],
      "text/plain": [
       "<IPython.core.display.Latex object>"
      ]
     },
     "metadata": {},
     "output_type": "display_data"
    },
    {
     "data": {
      "text/latex": [
       "Sol. It is homogeneous DE. So using $y=vx$, the solution is"
      ],
      "text/plain": [
       "<IPython.core.display.Latex object>"
      ]
     },
     "metadata": {},
     "output_type": "display_data"
    },
    {
     "data": {
      "image/png": "[encoded data removed]",
      "text/latex": [
       "$\\displaystyle - \\frac{\\log{\\left(1 + \\frac{y^{2}}{x^{2}} \\right)}}{2} + \\operatorname{atan}{\\left(\\frac{y}{x} \\right)} = C_{1} + \\log{\\left(x \\right)}$"
      ],
      "text/plain": [
       "     ⎛     2⎞                        \n",
       "     ⎜    y ⎟                        \n",
       "  log⎜1 + ──⎟                        \n",
       "     ⎜     2⎟                        \n",
       "     ⎝    x ⎠       ⎛y⎞              \n",
       "- ─────────── + atan⎜─⎟ = C₁ + log(x)\n",
       "       2            ⎝x⎠              "
      ]
     },
     "metadata": {},
     "output_type": "display_data"
    }
   ],
   "source": [
    "# Homogeneous DE\n",
    "display(Latex(\"Ex. Solve $y'=\\\\frac{x+y}{x-y}$.\"))\n",
    "display(Latex('Sol. It is homogeneous DE. So using $y=vx$, the solution is'))\n",
    "x,y,v,C_1 = sy.symbols('x,y,v,C_1')\n",
    "f=(x+y)/(x-y);\n",
    "sol = sy.Eq(sy.integrate(1/(f.subs(y,v*x)-v),v),sy.ln(x)+C_1)\n",
    "display(sol.subs(v,y/x)) "
   ]
  },
  {
   "cell_type": "code",
   "execution_count": 6,
   "metadata": {},
   "outputs": [
    {
     "data": {
      "text/latex": [
       "Ex. Solve $y'=\\frac{x+y+4}{x-y-6}$."
      ],
      "text/plain": [
       "<IPython.core.display.Latex object>"
      ]
     },
     "metadata": {},
     "output_type": "display_data"
    },
    {
     "data": {
      "text/latex": [
       "Sol. It becomes homogeneous DE with the substitution $x=X+h$, $Y+k$, where $h+k+4=0$, $h-k-6=0$. The solution is"
      ],
      "text/plain": [
       "<IPython.core.display.Latex object>"
      ]
     },
     "metadata": {},
     "output_type": "display_data"
    },
    {
     "data": {
      "image/png": "[encoded data removed]",
      "text/latex": [
       "$\\displaystyle \\left\\{ h : 1, \\  k : -5\\right\\}$"
      ],
      "text/plain": [
       "{h: 1, k: -5}"
      ]
     },
     "metadata": {},
     "output_type": "display_data"
    },
    {
     "data": {
      "image/png": "[encoded data removed]",
      "text/latex": [
       "$\\displaystyle - \\frac{\\log{\\left(1 + \\frac{\\left(y + 5\\right)^{2}}{\\left(x - 1\\right)^{2}} \\right)}}{2} + \\operatorname{atan}{\\left(\\frac{y + 5}{x - 1} \\right)} = C_{1} + \\log{\\left(x - 1 \\right)}$"
      ],
      "text/plain": [
       "     ⎛           2⎞                                \n",
       "     ⎜    (y + 5) ⎟                                \n",
       "  log⎜1 + ────────⎟                                \n",
       "     ⎜           2⎟                                \n",
       "     ⎝    (x - 1) ⎠       ⎛y + 5⎞                  \n",
       "- ───────────────── + atan⎜─────⎟ = C₁ + log(x - 1)\n",
       "          2               ⎝x - 1⎠                  "
      ]
     },
     "metadata": {},
     "output_type": "display_data"
    }
   ],
   "source": [
    "# Reducible to Homogeneous DE\n",
    "display(Latex(\"Ex. Solve $y'=\\\\frac{x+y+4}{x-y-6}$.\"))\n",
    "display(Latex('Sol. It becomes homogeneous DE with the substitution $x=X+h$, $Y+k$, where $h+k+4=0$, \\\n",
    "$h-k-6=0$. The solution is'))\n",
    "x,y,v,h,k,C_1 = sy.symbols('x,y,v,h,k,C_1')\n",
    "display(sy.solve((sy.Eq(h+k+4,0), sy.Eq(h-k-6,0)), (h, k)))\n",
    "f=(x+y)/(x-y);\n",
    "sol = sy.Eq(sy.integrate(1/(f.subs(y,v*x)-v),v),sy.ln(x)+C_1)\n",
    "sol1=sol.subs(v,y/x)\n",
    "h=1;k=-5\n",
    "display(sol1.subs([(x,x-h),(y,y-k)])) "
   ]
  },
  {
   "cell_type": "code",
   "execution_count": 7,
   "metadata": {},
   "outputs": [
    {
     "data": {
      "text/latex": [
       "Ex. Test the equation $e^ydx+(xe^y+2y)dy=0$ for exactness and solve it if it is exact."
      ],
      "text/plain": [
       "<IPython.core.display.Latex object>"
      ]
     },
     "metadata": {},
     "output_type": "display_data"
    },
    {
     "data": {
      "text/latex": [
       "Sol."
      ],
      "text/plain": [
       "<IPython.core.display.Latex object>"
      ]
     },
     "metadata": {},
     "output_type": "display_data"
    },
    {
     "name": "stdout",
     "output_type": "stream",
     "text": [
      "Given DE is exact and its solution is\n"
     ]
    },
    {
     "data": {
      "image/png": "[encoded data removed]",
      "text/latex": [
       "$\\displaystyle x e^{y} + y^{2} = C$"
      ],
      "text/plain": [
       "   y    2    \n",
       "x⋅ℯ  + y  = C"
      ]
     },
     "metadata": {},
     "output_type": "display_data"
    }
   ],
   "source": [
    "# Exact DE\n",
    "display(Latex(\"Ex. Test the equation $e^ydx+(xe^y+2y)dy=0$ for exactness and solve it if it is exact.\"))\n",
    "display(Latex('Sol.'))\n",
    "x = sy.symbols('x'); y = sy.symbols('y');C = sy.symbols('C')\n",
    "M=sy.exp(y) # Enter M here\n",
    "N=x*sy.exp(y)+2*y # Enter N here\n",
    "IF1=sy.exp(sy.integrate(sy.simplify((sy.diff(M,y)-sy.diff(N,x))/N),x))\n",
    "IF2=sy.exp(sy.integrate(sy.simplify((-sy.diff(M,y)+sy.diff(N,x))/M),y))\n",
    "IF3=sy.simplify(1/(M*x+N*y))\n",
    "if sy.simplify(sy.diff(M,y)-sy.diff(N,x))==0:\n",
    "    print('Given DE is exact and its solution is')\n",
    "    I=sy.Eq(sy.integrate(M,x)+sy.integrate(N-sy.diff(sy.integrate(M,x),y),y),C)\n",
    "    display(I)\n",
    "elif(sy.simplify(sy.diff(M*IF1,y)-sy.diff(N*IF1,x))==0):\n",
    "    print('Given DE is not exact but its IF1 is')\n",
    "    display(IF1)\n",
    "    print('And solution is')\n",
    "    I=sy.Eq(sy.integrate(M*IF1,x)+sy.integrate(N*IF1-sy.diff(sy.integrate(M*IF1,x),y),y),C)\n",
    "    display(I)\n",
    "elif(sy.simplify(sy.diff(M*IF2,y)-sy.diff(N*IF2,x))==0):\n",
    "    print('Given DE is not exact but its IF2 is')\n",
    "    display(IF2)\n",
    "    print('And solution is')\n",
    "    I=sy.Eq(sy.integrate(M*IF2,x)+sy.integrate(N*IF2-sy.diff(sy.integrate(M*IF2,x),y),y),C)\n",
    "    display(I)\n",
    "elif(sy.simplify(sy.diff(M*IF3,y)-sy.diff(N*IF3,x))==0):\n",
    "    print('Given DE is not exact but its IF3 is')\n",
    "    display(IF3)\n",
    "    print('And solution is')\n",
    "    I=sy.Eq(sy.integrate(M*IF3,x)+\n",
    "    sy.integrate(N*IF3-sy.diff(sy.integrate(M*IF3,x),y),y),C)\n",
    "    display(I)\n",
    "else:\n",
    "    print('Given DE is not exact, and we do not have IF')"
   ]
  },
  {
   "cell_type": "code",
   "execution_count": 8,
   "metadata": {},
   "outputs": [
    {
     "data": {
      "text/latex": [
       "Ex. Test the equation $(x^2+y^2+x)dx+xydy=0$ for exactness and solve it if it is exact."
      ],
      "text/plain": [
       "<IPython.core.display.Latex object>"
      ]
     },
     "metadata": {},
     "output_type": "display_data"
    },
    {
     "data": {
      "text/latex": [
       "Sol."
      ],
      "text/plain": [
       "<IPython.core.display.Latex object>"
      ]
     },
     "metadata": {},
     "output_type": "display_data"
    },
    {
     "name": "stdout",
     "output_type": "stream",
     "text": [
      "Given DE is not exact but its IF1 is\n"
     ]
    },
    {
     "data": {
      "image/png": "[encoded data removed]",
      "text/latex": [
       "$\\displaystyle x$"
      ],
      "text/plain": [
       "x"
      ]
     },
     "metadata": {},
     "output_type": "display_data"
    },
    {
     "name": "stdout",
     "output_type": "stream",
     "text": [
      "And solution is\n"
     ]
    },
    {
     "data": {
      "image/png": "[encoded data removed]",
      "text/latex": [
       "$\\displaystyle \\frac{x^{4}}{4} + \\frac{x^{3}}{3} + \\frac{x^{2} y^{2}}{2} = C$"
      ],
      "text/plain": [
       " 4    3    2  2    \n",
       "x    x    x ⋅y     \n",
       "── + ── + ───── = C\n",
       "4    3      2      "
      ]
     },
     "metadata": {},
     "output_type": "display_data"
    }
   ],
   "source": [
    "# Exact DE with IF \n",
    "display(Latex(\"Ex. Test the equation $(x^2+y^2+x)dx+xydy=0$ for exactness and solve it if it is exact.\"))\n",
    "display(Latex('Sol.'))\n",
    "x = sy.symbols('x'); y = sy.symbols('y');C = sy.symbols('C')\n",
    "M=x**2+y**2+x # Enter M here\n",
    "N=x*y # Enter N here\n",
    "IF1=sy.exp(sy.integrate(sy.simplify((sy.diff(M,y)-sy.diff(N,x))/N),x))\n",
    "IF2=sy.exp(sy.integrate(sy.simplify((-sy.diff(M,y)+sy.diff(N,x))/M),y))\n",
    "IF3=sy.simplify(1/(M*x+N*y))\n",
    "if sy.simplify(sy.diff(M,y)-sy.diff(N,x))==0:\n",
    "    print('Given DE is exact and its solution is')\n",
    "    I=sy.Eq(sy.integrate(M,x)+sy.integrate(N-sy.diff(sy.integrate(M,x),y),y),C)\n",
    "    display(I)\n",
    "elif(sy.simplify(sy.diff(M*IF1,y)-sy.diff(N*IF1,x))==0):\n",
    "    print('Given DE is not exact but its IF1 is')\n",
    "    display(IF1)\n",
    "    print('And solution is')\n",
    "    I=sy.Eq(sy.integrate(M*IF1,x)+sy.integrate(N*IF1-sy.diff(sy.integrate(M*IF1,x),y),y),C)\n",
    "    display(I)\n",
    "elif(sy.simplify(sy.diff(M*IF2,y)-sy.diff(N*IF2,x))==0):\n",
    "    print('Given DE is not exact but its IF2 is')\n",
    "    display(IF2)\n",
    "    print('And solution is')\n",
    "    I=sy.Eq(sy.integrate(M*IF2,x)+sy.integrate(N*IF2-sy.diff(sy.integrate(M*IF2,x),y),y),C)\n",
    "    display(I)\n",
    "elif(sy.simplify(sy.diff(M*IF3,y)-sy.diff(N*IF3,x))==0):\n",
    "    print('Given DE is not exact but its IF3 is')\n",
    "    display(IF3)\n",
    "    print('And solution is')\n",
    "    I=sy.Eq(sy.integrate(M*IF3,x)+\n",
    "    sy.integrate(N*IF3-sy.diff(sy.integrate(M*IF3,x),y),y),C)\n",
    "    display(I)\n",
    "else:\n",
    "    print('Given DE is not exact, and we do not have IF')"
   ]
  },
  {
   "cell_type": "code",
   "execution_count": 9,
   "metadata": {},
   "outputs": [
    {
     "data": {
      "text/latex": [
       "Ex. Solve the DE $y'-y=0$ with the condition $y(0)=1$."
      ],
      "text/plain": [
       "<IPython.core.display.Latex object>"
      ]
     },
     "metadata": {},
     "output_type": "display_data"
    },
    {
     "data": {
      "text/latex": [
       "Sol. The solution is"
      ],
      "text/plain": [
       "<IPython.core.display.Latex object>"
      ]
     },
     "metadata": {},
     "output_type": "display_data"
    },
    {
     "data": {
      "image/png": "[encoded data removed]",
      "text/latex": [
       "$\\displaystyle y{\\left(x \\right)} = C_{1} e^{x}$"
      ],
      "text/plain": [
       "           x\n",
       "y(x) = C₁⋅ℯ "
      ]
     },
     "metadata": {},
     "output_type": "display_data"
    },
    {
     "data": {
      "text/latex": [
       "Using the condition $y(0)=1$, we get"
      ],
      "text/plain": [
       "<IPython.core.display.Latex object>"
      ]
     },
     "metadata": {},
     "output_type": "display_data"
    },
    {
     "data": {
      "image/png": "[encoded data removed]",
      "text/latex": [
       "$\\displaystyle \\left\\{ C_{1} : 1\\right\\}$"
      ],
      "text/plain": [
       "{C₁: 1}"
      ]
     },
     "metadata": {},
     "output_type": "display_data"
    },
    {
     "data": {
      "image/png": "[encoded data removed]",
      "text/latex": [
       "$\\displaystyle y{\\left(x \\right)} = e^{x}$"
      ],
      "text/plain": [
       "        x\n",
       "y(x) = ℯ "
      ]
     },
     "metadata": {},
     "output_type": "display_data"
    }
   ],
   "source": [
    "# Initial value problem\n",
    "display(Latex(\"Ex. Solve the DE $y'-y=0$ with the condition $y(0)=1$.\"))\n",
    "display(Latex('Sol. The solution is'))\n",
    "x = sy.symbols('x'); y = sy.symbols('y', cls=sy.Function)\n",
    "a1=1;a0=-1;r=0\n",
    "DE = sy.Eq(a1*y(x).diff(x) + a0*y(x), r)\n",
    "sol = sy.dsolve(DE,y(x))\n",
    "display(sol)\n",
    "display(Latex(\"Using the condition $y(0)=1$, we get\"))\n",
    "# Solving C1 from the intial conditions y(0)=1\n",
    "constants = sy.solve([sol.rhs.subs(x,0) - 1])\n",
    "display(constants)\n",
    "# Final solution\n",
    "C1 = sy.symbols('C1')\n",
    "fsol = sol.subs(constants)\n",
    "display(fsol)"
   ]
  },
  {
   "cell_type": "code",
   "execution_count": 10,
   "metadata": {},
   "outputs": [
    {
     "data": {
      "text/latex": [
       "Ex. Solve the DE $y'-y=0$, $y(0)=1$ numerically at $x=0,0.5,1,1.5,2$, and compare with the exact solution."
      ],
      "text/plain": [
       "<IPython.core.display.Latex object>"
      ]
     },
     "metadata": {},
     "output_type": "display_data"
    },
    {
     "data": {
      "text/latex": [
       "Sol. The solution is"
      ],
      "text/plain": [
       "<IPython.core.display.Latex object>"
      ]
     },
     "metadata": {},
     "output_type": "display_data"
    },
    {
     "name": "stdout",
     "output_type": "stream",
     "text": [
      "                 x = [0.  0.5 1.  1.5 2. ]\n",
      "Numerical Solution = [1.         1.64872127 2.71828191 4.48168924 7.3890564 ]\n",
      "    Exact Solution = [1.         1.64872127 2.71828183 4.48168907 7.3890561 ]\n"
     ]
    },
    {
     "data": {
      "image/png": "[encoded data removed]",
      "text/plain": [
       "<Figure size 432x288 with 1 Axes>"
      ]
     },
     "metadata": {
      "needs_background": "light"
     },
     "output_type": "display_data"
    },
    {
     "data": {
      "text/latex": [
       "Notice that the two solution curves (numerical and exact) overlap each other, as expected."
      ],
      "text/plain": [
       "<IPython.core.display.Latex object>"
      ]
     },
     "metadata": {},
     "output_type": "display_data"
    }
   ],
   "source": [
    "# Numerical solution of IVP\n",
    "display(Latex(\"Ex. Solve the DE $y'-y=0$, $y(0)=1$ numerically at $x=0,0.5,1,1.5,2$, \\\n",
    "and compare with the exact solution.\"))\n",
    "display(Latex('Sol. The solution is'))\n",
    "%matplotlib inline\n",
    "import numpy as np\n",
    "from scipy.integrate import odeint\n",
    "import matplotlib.pyplot as plt\n",
    "# Consider the DE: y'=y\n",
    "def dydx(y, x):\n",
    "    return y\n",
    "x = np.linspace(0, 2, 5) # It stores five x-values in the interval [0,2], as printed below. \n",
    "w = odeint(dydx, [1], x) # Here [1] stands for the initial condition y(0)=1\n",
    "y = w[:,0] # It stores the numerical solution of the DE at the chosen 5 x-values.\n",
    "print('                 x =',x) # It prints the chosen 5 x-values\n",
    "print('Numerical Solution =',y) # It prints the numerical solution of the DE at the chosen 5 x-values.\n",
    "def f(x):   # Here f defines the exact solution y=f(x)=e^x of y'=y, y(0)=1.\n",
    "    return np.exp(x)\n",
    "print('    Exact Solution =',f(x)) # It prints the exact solution of the DE at the chosen 5 x-values.\n",
    "# We see that the numerical and exact soltions match with high accuracy at the chosen 5 x-values.\n",
    "# Let us plot the two solution curves by using the five points.\n",
    "plt.plot(x,y,'b--',label='Numerical') # Plotting the numerical solution \n",
    "plt.plot(x,f(x),'g',label='Exact') # Plotting the exact solution y=e^x\n",
    "plt.legend(loc=\"best\")\n",
    "plt.xlabel('$x$')\n",
    "plt.ylabel('$y(x)$')\n",
    "plt.show()\n",
    "display(Latex(\"Notice that the two solution curves (numerical and exact) overlap each other, as expected.\"))"
   ]
  }
 ],
 "metadata": {
  "kernelspec": {
   "display_name": "Python 3",
   "language": "python",
   "name": "python3"
  },
  "language_info": {
   "codemirror_mode": {
    "name": "ipython",
    "version": 3
   },
   "file_extension": ".py",
   "mimetype": "text/x-python",
   "name": "python",
   "nbconvert_exporter": "python",
   "pygments_lexer": "ipython3",
   "version": "3.8.10"
  }
 },
 "nbformat": 4,
 "nbformat_minor": 4
}
