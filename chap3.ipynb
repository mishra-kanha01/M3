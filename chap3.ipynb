{
 "cells": [
  {
   "cell_type": "code",
   "execution_count": 1,
   "metadata": {},
   "outputs": [
    {
     "data": {
      "text/latex": [
       "Ex. Test whether the solutions $y_1=\\cos x$ and $y_2=\\sin x$ of the DE $y''+y=0$ are LI."
      ],
      "text/plain": [
       "<IPython.core.display.Latex object>"
      ]
     },
     "metadata": {},
     "output_type": "display_data"
    },
    {
     "data": {
      "text/latex": [
       "Sol. Here the Wronskian is"
      ],
      "text/plain": [
       "<IPython.core.display.Latex object>"
      ]
     },
     "metadata": {},
     "output_type": "display_data"
    },
    {
     "data": {
      "image/png": "[encoded data removed]",
      "text/latex": [
       "$\\displaystyle W = 1$"
      ],
      "text/plain": [
       "W = 1"
      ]
     },
     "metadata": {},
     "output_type": "display_data"
    },
    {
     "data": {
      "text/latex": [
       "which is identically non-zero. So $y_1$ and $y_2$ are LI."
      ],
      "text/plain": [
       "<IPython.core.display.Latex object>"
      ]
     },
     "metadata": {},
     "output_type": "display_data"
    }
   ],
   "source": [
    "# Wronskian and independent solutions\n",
    "import sympy as sy # Importing Sympy for symbolic calculations\n",
    "sy.init_printing() # For LaTeX formatted output\n",
    "from IPython.display import display, Latex # For displaying the output\n",
    "display(Latex(\"Ex. Test whether the solutions $y_1=\\cos x$ and $y_2=\\sin x$ of the DE $y''+y=0$ are LI.\"))\n",
    "display(Latex('Sol. Here the Wronskian is'))\n",
    "x,y,C_1,C_2, W = sy.symbols('x,y,C_1,C_2, W') # Declaring the symbols\n",
    "y1=sy.cos(x);y2=sy.sin(x); # Enter the given y1 and y2 here\n",
    "Wr=sy.simplify(y1*sy.diff(y2,x)-y2*sy.diff(y1,x))\n",
    "display(sy.Eq(W,Wr))\n",
    "if Wr==0:\n",
    "    display(Latex('which is identically 0. So $y_1$ and $y_2$ are LD.'))\n",
    "else:\n",
    "    display(Latex('which is identically non-zero. So $y_1$ and $y_2$ are LI.'))"
   ]
  },
  {
   "cell_type": "code",
   "execution_count": 2,
   "metadata": {},
   "outputs": [
    {
     "data": {
      "text/latex": [
       "Ex. Test whether the solutions $y_1=\\cos x$ and $y_2=2\\cos x$ of the DE $y''+y=0$ are LI."
      ],
      "text/plain": [
       "<IPython.core.display.Latex object>"
      ]
     },
     "metadata": {},
     "output_type": "display_data"
    },
    {
     "data": {
      "text/latex": [
       "Sol. Here the Wronskian W is"
      ],
      "text/plain": [
       "<IPython.core.display.Latex object>"
      ]
     },
     "metadata": {},
     "output_type": "display_data"
    },
    {
     "data": {
      "image/png": "[encoded data removed]",
      "text/latex": [
       "$\\displaystyle W = 0$"
      ],
      "text/plain": [
       "W = 0"
      ]
     },
     "metadata": {},
     "output_type": "display_data"
    },
    {
     "data": {
      "text/latex": [
       "which is identically 0. So $y_1$ and $y_2$ are LD."
      ],
      "text/plain": [
       "<IPython.core.display.Latex object>"
      ]
     },
     "metadata": {},
     "output_type": "display_data"
    }
   ],
   "source": [
    "display(Latex(\"Ex. Test whether the solutions $y_1=\\cos x$ and $y_2=2\\cos x$ of the DE $y''+y=0$ are LI.\"))\n",
    "display(Latex('Sol. Here the Wronskian W is'))\n",
    "x,y,C_1,C_2,W = sy.symbols('x,y,C_1,C_2,W') # Declaring the symbols\n",
    "y1=sy.cos(x);y2=2*sy.cos(x);\n",
    "Wr=sy.simplify(y1*sy.diff(y2,x)-y2*sy.diff(y1,x))\n",
    "display(sy.Eq(W,Wr))\n",
    "if Wr==0:\n",
    "    display(Latex('which is identically 0. So $y_1$ and $y_2$ are LD.'))\n",
    "else:\n",
    "    display(Latex('which is identically non-zero. So $y_1$ and $y_2$ are LI.'))"
   ]
  },
  {
   "cell_type": "code",
   "execution_count": 3,
   "metadata": {},
   "outputs": [
    {
     "data": {
      "text/latex": [
       "Ex. Find general solution of $x^2y''+xy'-y=0$ given that $y_1=x$ is a solution."
      ],
      "text/plain": [
       "<IPython.core.display.Latex object>"
      ]
     },
     "metadata": {},
     "output_type": "display_data"
    },
    {
     "data": {
      "text/latex": [
       "Sol. The solution is"
      ],
      "text/plain": [
       "<IPython.core.display.Latex object>"
      ]
     },
     "metadata": {},
     "output_type": "display_data"
    },
    {
     "data": {
      "image/png": "[encoded data removed]",
      "text/latex": [
       "$\\displaystyle y = C_{1} x - \\frac{C_{2}}{2 x}$"
      ],
      "text/plain": [
       "            C₂\n",
       "y = C₁⋅x - ───\n",
       "           2⋅x"
      ]
     },
     "metadata": {},
     "output_type": "display_data"
    }
   ],
   "source": [
    "# Use of known solution to find another\n",
    "display(Latex(\"Ex. Find general solution of $x^2y''+xy'-y=0$ given that $y_1=x$ is a solution.\"))\n",
    "display(Latex('Sol. The solution is'))\n",
    "x,y,C_1,C_2 = sy.symbols('x,y,C_1,C_2') # Declaring the symbols\n",
    "y1=x;px=1/x; # Enter y1 and p(x) here\n",
    "sol = C_1*y1+C_2*y1*sy.integrate(1/y1**2*(sy.exp(sy.integrate(-px,x))),x)\n",
    "display(sy.Eq(y,sol))"
   ]
  },
  {
   "cell_type": "code",
   "execution_count": 4,
   "metadata": {},
   "outputs": [
    {
     "data": {
      "text/latex": [
       "Ex. Solve the DE $y''+y'-6y=0$."
      ],
      "text/plain": [
       "<IPython.core.display.Latex object>"
      ]
     },
     "metadata": {},
     "output_type": "display_data"
    },
    {
     "data": {
      "text/latex": [
       "Sol. Here the AE is"
      ],
      "text/plain": [
       "<IPython.core.display.Latex object>"
      ]
     },
     "metadata": {},
     "output_type": "display_data"
    },
    {
     "data": {
      "image/png": "[encoded data removed]",
      "text/latex": [
       "$\\displaystyle m^{2} + m - 6 = 0$"
      ],
      "text/plain": [
       " 2            \n",
       "m  + m - 6 = 0"
      ]
     },
     "metadata": {},
     "output_type": "display_data"
    },
    {
     "data": {
      "text/latex": [
       "with the roots:"
      ],
      "text/plain": [
       "<IPython.core.display.Latex object>"
      ]
     },
     "metadata": {},
     "output_type": "display_data"
    },
    {
     "data": {
      "image/png": "[encoded data removed]",
      "text/latex": [
       "$\\displaystyle \\left[ -3, \\  2\\right]$"
      ],
      "text/plain": [
       "[-3, 2]"
      ]
     },
     "metadata": {},
     "output_type": "display_data"
    },
    {
     "data": {
      "text/latex": [
       "So the solution of the given DE is"
      ],
      "text/plain": [
       "<IPython.core.display.Latex object>"
      ]
     },
     "metadata": {},
     "output_type": "display_data"
    },
    {
     "data": {
      "image/png": "[encoded data removed]",
      "text/latex": [
       "$\\displaystyle y = C_{1} e^{2 x} + C_{2} e^{- 3 x}$"
      ],
      "text/plain": [
       "        2⋅x       -3⋅x\n",
       "y = C₁⋅ℯ    + C₂⋅ℯ    "
      ]
     },
     "metadata": {},
     "output_type": "display_data"
    }
   ],
   "source": [
    "# Homogeneous LDE y''+py'+qy = 0 with Constant Coefficients p and q\n",
    "display(Latex(\"Ex. Solve the DE $y''+y'-6y=0$.\"))\n",
    "display(Latex('Sol. Here the AE is'))\n",
    "x,y,C_1,C_2,m = sy.symbols('x,y,C_1,C_2,m') # Declaring the symbols\n",
    "p=1;q=-6; # Enter p and q here\n",
    "k=sy.Rational(1,2)\n",
    "display(sy.Eq(m**2+p*m+q,0))\n",
    "display(Latex('with the roots:'))\n",
    "display(sy.solve(sy.Eq(m**2+p*m+q,0),m))\n",
    "display(Latex('So the solution of the given DE is'))\n",
    "if p**2-4*q > 0:\n",
    "    sol=C_1*sy.exp((-p+(p**2-4*q)**k)*x/2)+C_2*sy.exp((-p-(p**2-4*q)**k)*x/2)\n",
    "    display(sy.Eq(y,sol))\n",
    "elif p**2-4*q == 0:\n",
    "    sol=C_1*sy.exp((-p+(p**2-4*q)**k)*x/2)+C_2*x*sy.exp((-p-(p**2-4*q)**k)*x/2)\n",
    "    display(sy.Eq(y,sol))\n",
    "else:\n",
    "    sol=sy.exp(-p*x/2)*(C_1*sy.cos((-p**2+4*q)**(k)*x/2)+C_2*sy.sin((-p**2+4*q)**(k)*x/2))\n",
    "    display(sy.Eq(y,sol))"
   ]
  },
  {
   "cell_type": "code",
   "execution_count": 5,
   "metadata": {},
   "outputs": [
    {
     "data": {
      "text/latex": [
       "Ex. Reduce  $xy''+(x^2-1)y'+x^3y=0$ to a homogeneousLDE with constant coefficients and hence solve it."
      ],
      "text/plain": [
       "<IPython.core.display.Latex object>"
      ]
     },
     "metadata": {},
     "output_type": "display_data"
    },
    {
     "data": {
      "text/latex": [
       "Sol. Here the AE is"
      ],
      "text/plain": [
       "<IPython.core.display.Latex object>"
      ]
     },
     "metadata": {},
     "output_type": "display_data"
    },
    {
     "data": {
      "image/png": "[encoded data removed]",
      "text/latex": [
       "$\\displaystyle m^{2} + m + 1 = 0$"
      ],
      "text/plain": [
       " 2            \n",
       "m  + m + 1 = 0"
      ]
     },
     "metadata": {},
     "output_type": "display_data"
    },
    {
     "data": {
      "text/latex": [
       "with the roots:"
      ],
      "text/plain": [
       "<IPython.core.display.Latex object>"
      ]
     },
     "metadata": {},
     "output_type": "display_data"
    },
    {
     "data": {
      "image/png": "[encoded data removed]",
      "text/latex": [
       "$\\displaystyle \\left[ - \\frac{1}{2} - \\frac{\\sqrt{3} i}{2}, \\  - \\frac{1}{2} + \\frac{\\sqrt{3} i}{2}\\right]$"
      ],
      "text/plain": [
       "⎡  1   √3⋅ⅈ    1   √3⋅ⅈ⎤\n",
       "⎢- ─ - ────, - ─ + ────⎥\n",
       "⎣  2    2      2    2  ⎦"
      ]
     },
     "metadata": {},
     "output_type": "display_data"
    },
    {
     "data": {
      "text/latex": [
       "So the solution of the given DE is"
      ],
      "text/plain": [
       "<IPython.core.display.Latex object>"
      ]
     },
     "metadata": {},
     "output_type": "display_data"
    },
    {
     "data": {
      "image/png": "[encoded data removed]",
      "text/latex": [
       "$\\displaystyle y = \\left(C_{1} \\cos{\\left(\\frac{\\sqrt{3} x^{2}}{4} \\right)} + C_{2} \\sin{\\left(\\frac{\\sqrt{3} x^{2}}{4} \\right)}\\right) e^{- \\frac{x^{2}}{4}}$"
      ],
      "text/plain": [
       "                                       2 \n",
       "                                     -x  \n",
       "    ⎛      ⎛    2⎞         ⎛    2⎞⎞  ────\n",
       "    ⎜      ⎜√3⋅x ⎟         ⎜√3⋅x ⎟⎟   4  \n",
       "y = ⎜C₁⋅cos⎜─────⎟ + C₂⋅sin⎜─────⎟⎟⋅ℯ    \n",
       "    ⎝      ⎝  4  ⎠         ⎝  4  ⎠⎠      "
      ]
     },
     "metadata": {},
     "output_type": "display_data"
    }
   ],
   "source": [
    "# Using the transformation $z=\\int \\sqrt{q(x)}dx$ or $z'=\\sqrt{q(x)}$\n",
    "from sympy.simplify.simplify import nthroot\n",
    "display(Latex(\"Ex. Reduce  $xy''+(x^2-1)y'+x^3y=0$ to a homogeneous\\\n",
    "LDE with constant coefficients and hence solve it.\"))\n",
    "display(Latex('Sol. Here the AE is'))\n",
    "x,y,z,C_1,C_2,m = sy.symbols('x,y,z,C_1,C_2,m') # Declaring the symbols\n",
    "px=x-1/x; qx=x**2; # Enter p(x) and q(x) here. In case of x^2y''+pxy'+qy=0, use px=p/x,qx=1/x^2 \n",
    "h=sy.simplify((sy.diff(qx,x)+2*px*qx)/(2*sy.powdenest(qx**(sy.Rational(3,2)),force=True)))\n",
    "#display(h)\n",
    "if sy.diff(h,x)==0:\n",
    "    p=h;q=1; # In case of x^2y''+pxy'+qy=0, use q=q\n",
    "    k=sy.Rational(1,2)\n",
    "    display(sy.Eq(m**2+p*m+q,0))\n",
    "    display(Latex('with the roots:'))\n",
    "    display(sy.solve(sy.Eq(m**2+p*m+q,0),m))\n",
    "    display(Latex('So the solution of the given DE is'))\n",
    "    if p**2-4*q > 0:\n",
    "        sol=C_1*sy.exp((-p+(p**2-4*q)**k)*z/2)+C_2*sy.exp((-p-(p**2-4*q)**k)*z/2)\n",
    "        display(sy.Eq(y,sol.subs(z,sy.integrate(sy.sqrt(qx,x)))))\n",
    "    elif p**2-4*q == 0:\n",
    "        sol=C_1*sy.exp((-p+(p**2-4*q)**k)*z/2)+C_2*x*sy.exp((-p-(p**2-4*q)**k)*z/2)\n",
    "        display(sy.Eq(y,sol.subs(z,sy.integrate(sy.sqrt(qx,x)))))\n",
    "    else:\n",
    "        sol=sy.exp(-p*z/2)*(C_1*sy.cos((-p**2+4*q)**(k)*z/2)+C_2*sy.sin((-p**2+4*q)**(k)*z/2))\n",
    "        display(sy.Eq(y,sol.subs(z,sy.integrate(sy.sqrt(qx,x)))))\n",
    "else:\n",
    "    display(Latex('The transformation $z=\\int \\sqrt{q(x)}dx$ does not lead to DE with constant coeff.'))"
   ]
  },
  {
   "cell_type": "code",
   "execution_count": 6,
   "metadata": {},
   "outputs": [
    {
     "data": {
      "text/latex": [
       "Ex. Use the method variation of parameters to find a particular solution of  $y''+y=\\csc x$."
      ],
      "text/plain": [
       "<IPython.core.display.Latex object>"
      ]
     },
     "metadata": {},
     "output_type": "display_data"
    },
    {
     "data": {
      "text/latex": [
       "Sol. The particular solution is"
      ],
      "text/plain": [
       "<IPython.core.display.Latex object>"
      ]
     },
     "metadata": {},
     "output_type": "display_data"
    },
    {
     "data": {
      "image/png": "[encoded data removed]",
      "text/latex": [
       "$\\displaystyle y = - x \\cos{\\left(x \\right)} + \\log{\\left(\\sin{\\left(x \\right)} \\right)} \\sin{\\left(x \\right)}$"
      ],
      "text/plain": [
       "y = -x⋅cos(x) + log(sin(x))⋅sin(x)"
      ]
     },
     "metadata": {},
     "output_type": "display_data"
    }
   ],
   "source": [
    "# Method of variation of parameters\n",
    "display(Latex(\"Ex. Use the method variation of parameters to find a particular solution of  $y''+y=\\csc x$.\"))\n",
    "display(Latex('Sol. The particular solution is'))\n",
    "x,y,C_1,C_2 = sy.symbols('x,y,C_1,C_2') # Declaring the symbols\n",
    "y1=sy.cos(x);y2=sy.sin(x); rx=1/sy.sin(x) # Enter y1, y2 and rx here\n",
    "W=sy.simplify(y1*sy.diff(y2,x)-y2*sy.diff(y1,x))\n",
    "sol=y1*sy.integrate(-y2*rx/W,x)+y2*sy.integrate(y1*rx/W,x)\n",
    "display(sy.Eq(y,sol))"
   ]
  },
  {
   "cell_type": "code",
   "execution_count": 7,
   "metadata": {},
   "outputs": [
    {
     "data": {
      "text/latex": [
       "Ex. DE $y''+y = 0$ with the initial conditions $y(0)=1$, $y'(0)=0$."
      ],
      "text/plain": [
       "<IPython.core.display.Latex object>"
      ]
     },
     "metadata": {},
     "output_type": "display_data"
    },
    {
     "data": {
      "text/latex": [
       "Sol. "
      ],
      "text/plain": [
       "<IPython.core.display.Latex object>"
      ]
     },
     "metadata": {},
     "output_type": "display_data"
    },
    {
     "data": {
      "image/png": "[encoded data removed]",
      "text/latex": [
       "$\\displaystyle y{\\left(x \\right)} = C_{1} \\sin{\\left(x \\right)} + C_{2} \\cos{\\left(x \\right)}$"
      ],
      "text/plain": [
       "y(x) = C₁⋅sin(x) + C₂⋅cos(x)"
      ]
     },
     "metadata": {},
     "output_type": "display_data"
    },
    {
     "data": {
      "image/png": "[encoded data removed]",
      "text/latex": [
       "$\\displaystyle \\left\\{ C_{1} : 0, \\  C_{2} : 1\\right\\}$"
      ],
      "text/plain": [
       "{C₁: 0, C₂: 1}"
      ]
     },
     "metadata": {},
     "output_type": "display_data"
    },
    {
     "data": {
      "image/png": "[encoded data removed]",
      "text/latex": [
       "$\\displaystyle y{\\left(x \\right)} = \\cos{\\left(x \\right)}$"
      ],
      "text/plain": [
       "y(x) = cos(x)"
      ]
     },
     "metadata": {},
     "output_type": "display_data"
    }
   ],
   "source": [
    "# IVP\n",
    "display(Latex(\"Ex. DE $y''+y = 0$ with the initial conditions $y(0)=1$, $y'(0)=0$.\"))\n",
    "display(Latex('Sol. '))\n",
    "x = sy.symbols('x'); y = sy.symbols('y', cls=sy.Function)\n",
    "#Enter the differential equation (DE): y’’+y=0\n",
    "a2=1; a1=0;a0=1;r=0\n",
    "DE = sy.Eq(a2*y(x).diff(x, x) - a1*y(x).diff(x) + a0*y(x), r)\n",
    "# Solve the DE\n",
    "sol = sy.dsolve(DE,y(x))\n",
    "# Print the solution\n",
    "display(sol)\n",
    "# Solving C1 and C2 from the intial conditions y(0)=1, y’(0)=0\n",
    "constants = sy.solve([sol.rhs.subs(x,0) - 1, sol.rhs.diff(x,1).subs(x,0)- 0])\n",
    "display(constants)\n",
    "# Final solution\n",
    "C1, C2 = sy.symbols('C1,C2')\n",
    "fsol = sol.subs(constants)\n",
    "display(fsol)"
   ]
  },
  {
   "cell_type": "code",
   "execution_count": 8,
   "metadata": {},
   "outputs": [
    {
     "data": {
      "text/latex": [
       "Ex. Find numerical solution of $y''+y = 0$, $y(0)=1$, $y'(0)=0$ at equispaced 20 pointsin the interval $[0,10]$, and compare with the exact solution."
      ],
      "text/plain": [
       "<IPython.core.display.Latex object>"
      ]
     },
     "metadata": {},
     "output_type": "display_data"
    },
    {
     "data": {
      "text/latex": [
       "Sol. "
      ],
      "text/plain": [
       "<IPython.core.display.Latex object>"
      ]
     },
     "metadata": {},
     "output_type": "display_data"
    },
    {
     "name": "stdout",
     "output_type": "stream",
     "text": [
      "x = [ 0.          0.52631579  1.05263158  1.57894737  2.10526316  2.63157895\n",
      "  3.15789474  3.68421053  4.21052632  4.73684211  5.26315789  5.78947368\n",
      "  6.31578947  6.84210526  7.36842105  7.89473684  8.42105263  8.94736842\n",
      "  9.47368421 10.        ]\n",
      "Numerical Solution = [ 1.          0.86466369  0.49528666 -0.00815089 -0.5093822  -0.87273772\n",
      " -0.99986711 -0.85635986 -0.48105947  0.02445055  0.52334249  0.88057996\n",
      "  0.99946858  0.84782845  0.46670439 -0.04074376 -0.53716372 -0.8881882\n",
      " -0.99880449 -0.83907176]\n",
      "Exact Solution = [ 1.          0.8646637   0.49528663 -0.00815095 -0.5093823  -0.87273782\n",
      " -0.99986712 -0.8563598  -0.48105935  0.02445069  0.52334259  0.88058\n",
      "  0.99946853  0.84782832  0.46670422 -0.04074393 -0.53716381 -0.88818817\n",
      " -0.99880433 -0.83907153]\n"
     ]
    },
    {
     "data": {
      "image/png": "[encoded data removed]",
      "text/plain": [
       "<Figure size 432x288 with 1 Axes>"
      ]
     },
     "metadata": {
      "needs_background": "light"
     },
     "output_type": "display_data"
    },
    {
     "data": {
      "text/latex": [
       "Notice that the two solution curves (numerical and exact) overlap each other, as expected."
      ],
      "text/plain": [
       "<IPython.core.display.Latex object>"
      ]
     },
     "metadata": {},
     "output_type": "display_data"
    }
   ],
   "source": [
    "# Numerical solution of IVP\n",
    "display(Latex(\"Ex. Find numerical solution of $y''+y = 0$, $y(0)=1$, $y'(0)=0$ at equispaced 20 points\\\n",
    "in the interval $[0,10]$, and compare with the exact solution.\"))\n",
    "display(Latex('Sol. '))\n",
    "%matplotlib inline\n",
    "import numpy as np\n",
    "from scipy.integrate import odeint\n",
    "import matplotlib.pyplot as plt\n",
    "def dydx(v, x):\n",
    "# let y’=z so that given DE reduces to the system: y’=z and z’= -(a1/a2)*z- (a0/a2)*y +\n",
    "    y, z = v\n",
    "    a2=1; a1=0;a0=1;r=0\n",
    "    return [z, -(a1/a2)*z- (a0/a2)*y + r/a2]\n",
    "x = np.linspace(0, 10, 20)\n",
    "w = odeint(dydx, [1,0], x) # Here [1,0] stands for the IC [y(0),y’(0)]=[1,0]\n",
    "y = w[:,0] # y’ = w[:,1]\n",
    "print('x =',x) # It prints the chosen 20 x-values\n",
    "print('Numerical Solution =',y) # It prints the numerical solution of the DE at the chosen 20 x-values.\n",
    "def f(x):   # Here f defines the exact solution y=f(x)=cos(x) of y''+y = 0, y(0)=1, y'(0)=0.\n",
    "    return np.cos(x)\n",
    "print('Exact Solution =',f(x)) # It prints the exact solution of the DE at the chosen 20 x-values.\n",
    "# plot results\n",
    "plt.plot(x,y,'b--',label='Numerical')\n",
    "plt.plot(x,np.cos(x),'g',label='Exact')\n",
    "plt.legend(loc='best')\n",
    "plt.xlabel('$x$')\n",
    "plt.ylabel('$y(x)$')\n",
    "plt.show()\n",
    "display(Latex(\"Notice that the two solution curves (numerical and exact) overlap each other, as expected.\"))"
   ]
  },
  {
   "cell_type": "code",
   "execution_count": null,
   "metadata": {},
   "outputs": [],
   "source": []
  }
 ],
 "metadata": {
  "kernelspec": {
   "display_name": "Python 3",
   "language": "python",
   "name": "python3"
  },
  "language_info": {
   "codemirror_mode": {
    "name": "ipython",
    "version": 3
   },
   "file_extension": ".py",
   "mimetype": "text/x-python",
   "name": "python",
   "nbconvert_exporter": "python",
   "pygments_lexer": "ipython3",
   "version": "3.8.10"
  }
 },
 "nbformat": 4,
 "nbformat_minor": 4
}
